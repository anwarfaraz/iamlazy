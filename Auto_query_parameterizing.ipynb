{
  "nbformat": 4,
  "nbformat_minor": 0,
  "metadata": {
    "colab": {
      "name": "Auto query parameterizing",
      "provenance": [],
      "authorship_tag": "ABX9TyNApNSadtxnwLZ3MLimLgUr",
      "include_colab_link": true
    },
    "kernelspec": {
      "name": "python3",
      "display_name": "Python 3"
    },
    "language_info": {
      "name": "python"
    }
  },
  "cells": [
    {
      "cell_type": "markdown",
      "metadata": {
        "id": "view-in-github",
        "colab_type": "text"
      },
      "source": [
        "<a href=\"https://colab.research.google.com/github/anwarfaraz/iamlazy/blob/main/Auto_query_parameterizing.ipynb\" target=\"_parent\"><img src=\"https://colab.research.google.com/assets/colab-badge.svg\" alt=\"Open In Colab\"/></a>"
      ]
    },
    {
      "cell_type": "code",
      "metadata": {
        "id": "vSiWE3rE5wjC"
      },
      "source": [
        "#paste your query here\n",
        "example_sql =\"\"\"with geo_dim as ( select distinct territory_number, territory_number as geo_id, 'territory' as geo_code from z_abv_cws_hcp360_brandanalytics_dm.rpt_rep_hierarchy_tbl where territory_type_id = 'REP' and sales_force in ('AI2', 'AI3', 'AI2R', 'AI2A') ), geo_map as ( select distinct b.abbott_customer_id, b.sales_force_code, a.territory_number as geo_id, 'territory' as geo_code from z_abv_cws_hcp360_brandanalytics_dm.rpt_rep_hierarchy_tbl a inner join ( select * from z_abv_cws_hcp360_brandanalytics_dm.dim_physician_geo_universe_tbl where sales_force_code in ('AI2', 'AI3', 'AI2R', 'AI2A') and upper(franchise_name) = 'IMMUNOLOGY - RHEUM' ) b on a.territory_number = b.territory_number union all select distinct b.abbott_customer_id, b.sales_force_code, a.district as geo_id, 'district' as geo_code from z_abv_cws_hcp360_brandanalytics_dm.rpt_rep_hierarchy_tbl a inner join ( select * from z_abv_cws_hcp360_brandanalytics_dm.dim_physician_geo_universe_tbl where sales_force_code in ('AI2', 'AI3', 'AI2R', 'AI2A') and upper(franchise_name) = 'IMMUNOLOGY - RHEUM' ) b on a.territory_number = b.territory_number union all select distinct b.abbott_customer_id, b.sales_force_code, a.region as geo_id, 'region' as geo_code from z_abv_cws_hcp360_brandanalytics_dm.rpt_rep_hierarchy_tbl a inner join ( select * from z_abv_cws_hcp360_brandanalytics_dm.dim_physician_geo_universe_tbl where sales_force_code in ('AI2', 'AI3', 'AI2R', 'AI2A') and upper(franchise_name) = 'IMMUNOLOGY - RHEUM' ) b on a.territory_number = b.territory_number union all select distinct b.abbott_customer_id, b.sales_force_code, '-1' as geo_id, 'nation' as geo_code from z_abv_cws_hcp360_brandanalytics_dm.rpt_rep_hierarchy_tbl a inner join ( select * from z_abv_cws_hcp360_brandanalytics_dm.dim_physician_geo_universe_tbl where sales_force_code in ('AI2', 'AI3', 'AI2R', 'AI2A') and upper(franchise_name) = 'IMMUNOLOGY - RHEUM' ) b on a.territory_number = b.territory_number ), run_log as ( select franchise, max(id) as run_id from z_abv_cws_hcp360_brandanalytics_dm.run_log where upper(franchise) = 'IMMUNOLOGY - RHEUM' group by franchise ), base as ( select fact.sales_force_code, sales.sales_force_id as sales_force_id, geo_dim.geo_id, geo_dim.geo_code, fact.abbott_customer_id as physician_id, time.time_dimension_id as time_dimension_id, fact.franchise_name as franchise, sub_market_name as market_name, product_group_name as brand, channel_name, abbott_product_id as product_id, market_indication, metric_value, time_bucket_name from ( select * from z_abv_cws_hcp360_brandanalytics_dm.rltn_metric_fact_tbl WHERE UNIVERSE_NAME = '1VIEW' and upper(metric_name) IN ('NBRX_COUNT') ) fact inner join( select distinct territory_number, abbott_customer_id from z_abv_cws_hcp360_brandanalytics_dm.dim_physician_geo_universe_tbl WHERE upper(UNIVERSE_NAME)= '1VIEW' AND upper(SALES_FORCE_CODE) IN ('AI2', 'AI3', 'AI2R', 'AI2A') AND UPPER(PDRP_FLAG)= 'N' ) phy on phy.abbott_customer_id = fact.abbott_customer_id and phy.territory_number = fact.geo_id inner join z_abv_cws_hcp360_brandanalytics_dm.sales_force_dim sales on fact.sales_force_code = sales.sales_force_name inner join ( select distinct child_product_id, sub_market_name, product_group_name, market_name from z_abv_cws_hcp360_brandanalytics_dm.dim_mdm_product_hier_wide_tbl where upper(market_name) in ( '1VIEW IMM RHEUM AS MARKET', '1VIEW IMM RHEUM PSA MARKET', '1VIEW IMM RHEUM RA MARKET' ) ) mkt on mkt.child_product_id = fact.abbott_product_id and mkt.market_name = fact.market_name inner join geo_dim on geo_dim.territory_number = fact.geo_id inner join ( select * from z_abv_cws_hcp360_brandanalytics_dm.time_dimension_tbl where kpi_group = 'NBRX_RHEUM' and time_bucket_name in ( 'C4W', 'P4W', 'C8W', 'P8W', 'C13W', 'P13W' ) ) time on fact.week_end_date >= time.start_date and fact.week_end_date <= time.end_date ), final as ( select distinct sales_force_code, base.sales_force_id, sum(metric_value) as metric_value, time_bucket_name, base.time_dimension_id as time_bucket_id, base.franchise as franchise, substring( market_name, locate(' ', market_name)+ 1 ) as market_name, base.physician_id from base where upper(BASE.MARKET_NAME) IN ( 'AS BIOLOGICS + NEW ORALS', 'PSA BIOLOGICS + NEW ORALS', 'RA BIOLOGICS + NEW ORALS' ) group by sales_force_code, base.sales_force_id, time_bucket_name, base.time_dimension_id, base.franchise, substring( market_name, locate(' ', market_name)+ 1 ), base.physician_id ) select calc.franchise, calc.geo_id, calc.geo_code, -1 as product_id, cast(null as string) as product_name, physician_id, 'NBRX_VOL_MKT_ABS_CNG' as metric_name, metric_value_abs as metric_value, market_name, time_bucket_id, data_refresh_date, run_id, -1 as market_id, cast(null as string) as segment_name, cast(null as string) as access_type, -1 as plan_id, cast('OVERALL' as string) as metric_type_group, cast(null as string) as metric_type_subgroup, sales_force_id, cast(null as string) as indication from ( select curr.sales_force_id as sales_force_id, curr.sales_force_code, curr.market_name, curr.time_bucket_name, cast(null as string) as geo_id, curr.franchise, curr.time_bucket_id as time_bucket_id, current_date() as data_refresh_date, cast(null as string) as geo_code, cast( ( curr.metric_value - prev.metric_value ) as decimal(32, 2) ) as metric_value_abs, case when prev.metric_value = 0 then 0.00 when ( curr.metric_value - prev.metric_value ) = 0 then 0.00 when prev.metric_value is null then 0.00 when ( curr.metric_value - prev.metric_value ) is null then 0.00 else cast( ( ( curr.metric_value - prev.metric_value ) \\/ prev.metric_value ) * 100 as decimal(32, 2) ) end as metric_value_abs_pct, curr.physician_id from ( select * from final where time_bucket_name in ('C4W', 'C8W', 'C13W') ) curr inner join ( select * from final where time_bucket_name in ('P4W', 'P8W', 'P13W') ) prev on curr.sales_force_code = prev.sales_force_code and substring( curr.time_bucket_name, 2, length(curr.time_bucket_name) ) = substring( prev.time_bucket_name, 2, length(prev.time_bucket_name) ) and curr.market_name = prev.market_name and curr.sales_force_id = prev.sales_force_id and curr.sales_force_code = prev.sales_force_code and curr.franchise = prev.franchise and curr.physician_id = prev.physician_id ) calc inner join run_log on run_log.franchise = calc.franchise\n",
        "\n",
        "\"\"\""
      ],
      "execution_count": null,
      "outputs": []
    },
    {
      "cell_type": "code",
      "metadata": {
        "id": "7ZkPIwj45yPq"
      },
      "source": [
        "#pip install sql_formatter"
      ],
      "execution_count": null,
      "outputs": []
    },
    {
      "cell_type": "code",
      "metadata": {
        "id": "IbDoJx0V50b2"
      },
      "source": [
        "from sql_formatter.core import format_sql\n",
        "\n",
        "format=format_sql(example_sql)"
      ],
      "execution_count": null,
      "outputs": []
    },
    {
      "cell_type": "code",
      "metadata": {
        "id": "uCitJ1Y457IE"
      },
      "source": [
        "a=list(map(lambda x: x.strip(),format.splitlines()))\n"
      ],
      "execution_count": null,
      "outputs": []
    },
    {
      "cell_type": "code",
      "metadata": {
        "id": "GG1FgdGd59gs"
      },
      "source": [
        "#Enter your dictionary here\n",
        "#make sure it has parenthesis included \n",
        "queryParams = queryParams ={ \"{territory_number_param}\" : \"territory_type_id = 'REP'\",\n",
        "\"{sales_force_param}\" : \"sales_force in ('AI2', 'AI3', 'AI2R', 'AI2A')\",\n",
        "\"{sales_force_param_}\":\"sales_force_code in ('AI2', 'AI3', 'AI2R', 'AI2A')\",\n",
        "\"{upper_sales_force_param_}\":\"upper(sales_force_code) in ('AI2', 'AI3', 'AI2R', 'AI2A')\",\n",
        "\"{franchise_param}\" : \"upper(franchise) = 'IMMUNOLOGY - RHEUM'\",\n",
        "\"{franchise_name_param}\":\"upper(franchise_name) = 'IMMUNOLOGY - RHEUM'\",\n",
        "\"{UNIVERSE_NAME_param}\" : \"UNIVERSE_NAME = '1VIEW'\",\n",
        "\"{metric_name_param}\" : \"upper(metric_name) IN ('NBRX_COUNT')\",\n",
        "\"{market_name_param}\" : \"upper(market_name) in ('1VIEW IMM RHEUM AS MARKET', '1VIEW IMM RHEUM PSA MARKET', '1VIEW IMM RHEUM RA MARKET')\",\n",
        "\"{kpi_group_param}\" : \"kpi_group = 'NBRX_RHEUM'\",\n",
        "\"{BASE.MARKET_NAME_param}\" : \"upper(BASE.MARKET_NAME) IN ('AS BIOLOGICS + NEW ORALS', 'PSA BIOLOGICS + NEW ORALS', 'RA BIOLOGICS + NEW ORALS')\",\n",
        "\"{upper_UNIVERSE_NAME_param}\" : \"upper(UNIVERSE_NAME) = '1VIEW'\",\n",
        "\"{time_param}\" : \"time_bucket_name in ('C4W', 'P4W', 'C8W', 'P8W', 'C13W', 'P13W')\",\n",
        "\"{time_param_1}\" : \"time_bucket_name in ('C4W', 'C8W', 'C13W')\",\n",
        "\"{time_param_2}\" : \"time_bucket_name in ('P4W', 'P8W', 'P13W')\",\n",
        "\"{segment_name_param}\":\"upper(segment_name) in ('RINVOQ_WRITER_FLAG', 'BIOLOGIC DECILE 12 MONTHS', 'SKYRIZI_WRITER_FLAG')\",\n",
        "\"{segment_name_param_1}\":\"upper(segment_name) in ('JAK_IT_UP_PROFILE')\",\n",
        "\"{segment_name_param_2}\":\"upper(segment_name) in ('PRIORITY_TARGET')\",\n",
        "\"{pdrp_flag_param}\":\"upper(pdrp_flag) = 'N')\"\n",
        "} "
      ],
      "execution_count": null,
      "outputs": []
    },
    {
      "cell_type": "code",
      "metadata": {
        "colab": {
          "base_uri": "https://localhost:8080/"
        },
        "id": "3tQtEPbR5_v6",
        "outputId": "ea282772-56fa-494c-896f-4b4599bef085"
      },
      "source": [
        "for x,y in queryParams.items():\n",
        "  print('\"',x.replace(\"{\",\"\").replace(\"}\",\"\"),'\"',\":\",'\"',y,'\"',\",\")"
      ],
      "execution_count": null,
      "outputs": [
        {
          "output_type": "stream",
          "name": "stdout",
          "text": [
            "\" territory_number_param \" : \" territory_type_id = 'REP' \" ,\n",
            "\" sales_force_param \" : \" sales_force in ('AI2', 'AI3', 'AI2R', 'AI2A') \" ,\n",
            "\" sales_force_param_ \" : \" sales_force_code in ('AI2', 'AI3', 'AI2R', 'AI2A') \" ,\n",
            "\" upper_sales_force_param_ \" : \" upper(sales_force_code) in ('AI2', 'AI3', 'AI2R', 'AI2A') \" ,\n",
            "\" franchise_param \" : \" upper(franchise) = 'IMMUNOLOGY - RHEUM' \" ,\n",
            "\" franchise_name_param \" : \" upper(franchise_name) = 'IMMUNOLOGY - RHEUM' \" ,\n",
            "\" UNIVERSE_NAME_param \" : \" UNIVERSE_NAME = '1VIEW' \" ,\n",
            "\" metric_name_param \" : \" upper(metric_name) IN ('NBRX_COUNT') \" ,\n",
            "\" market_name_param \" : \" upper(market_name) in ('1VIEW IMM RHEUM AS MARKET', '1VIEW IMM RHEUM PSA MARKET', '1VIEW IMM RHEUM RA MARKET') \" ,\n",
            "\" kpi_group_param \" : \" kpi_group = 'NBRX_RHEUM' \" ,\n",
            "\" BASE.MARKET_NAME_param \" : \" upper(BASE.MARKET_NAME) IN ('AS BIOLOGICS + NEW ORALS', 'PSA BIOLOGICS + NEW ORALS', 'RA BIOLOGICS + NEW ORALS') \" ,\n",
            "\" upper_UNIVERSE_NAME_param \" : \" upper(UNIVERSE_NAME) = '1VIEW' \" ,\n",
            "\" time_param \" : \" time_bucket_name in ('C4W', 'P4W', 'C8W', 'P8W', 'C13W', 'P13W') \" ,\n",
            "\" time_param_1 \" : \" time_bucket_name in ('C4W', 'C8W', 'C13W') \" ,\n",
            "\" time_param_2 \" : \" time_bucket_name in ('P4W', 'P8W', 'P13W') \" ,\n",
            "\" segment_name_param \" : \" upper(segment_name) in ('RINVOQ_WRITER_FLAG', 'BIOLOGIC DECILE 12 MONTHS', 'SKYRIZI_WRITER_FLAG') \" ,\n",
            "\" segment_name_param_1 \" : \" upper(segment_name) in ('JAK_IT_UP_PROFILE') \" ,\n",
            "\" segment_name_param_2 \" : \" upper(segment_name) in ('PRIORITY_TARGET') \" ,\n",
            "\" pdrp_flag_param \" : \" upper(pdrp_flag) = 'N') \" ,\n"
          ]
        }
      ]
    },
    {
      "cell_type": "code",
      "metadata": {
        "id": "fJiNETB-6DEi"
      },
      "source": [
        "import numpy as np\n",
        "for x,y in queryParams.items():\n",
        "  z=0\n",
        "  for z in range(len(a)):\n",
        "    if y.lower() not in a[z].lower():\n",
        "      #print(x)\n",
        "      a[z]=a[z]\n",
        "    else:\n",
        "      try:\n",
        "          a[z]=a[z].lower().replace(y.lower(),x)\n",
        "      except:\n",
        "        print(x)\n",
        "# check your query here\n",
        "#print(np.array(a))"
      ],
      "execution_count": null,
      "outputs": []
    },
    {
      "cell_type": "code",
      "metadata": {
        "id": "C_1jUC9h6F9j"
      },
      "source": [
        "final_query=\" \".join(a)"
      ],
      "execution_count": null,
      "outputs": []
    },
    {
      "cell_type": "code",
      "metadata": {
        "colab": {
          "base_uri": "https://localhost:8080/"
        },
        "id": "8Ci_mIpr6Lpe",
        "outputId": "69ecf816-fe3e-4a73-fd60-ac4afeed784c"
      },
      "source": [
        "print(format_sql(final_query))"
      ],
      "execution_count": null,
      "outputs": [
        {
          "output_type": "stream",
          "name": "stdout",
          "text": [
            "with geo_dim as (SELECT DISTINCT territory_number,\n",
            "                                 territory_number as geo_id,\n",
            "                                 'territory' as geo_code\n",
            "                 FROM   z_abv_cws_hcp360_brandanalytics_dm.rpt_rep_hierarchy_tbl\n",
            "                 WHERE  {territory_number_param}\n",
            "                    and {sales_force_param}), geo_map as (SELECT DISTINCT b.abbott_customer_id,\n",
            "                                                      b.sales_force_code,\n",
            "                                                      a.territory_number as geo_id,\n",
            "                                                      'territory' as geo_code\n",
            "                                      FROM   z_abv_cws_hcp360_brandanalytics_dm.rpt_rep_hierarchy_tbl a\n",
            "                                          INNER JOIN (SELECT *\n",
            "                                                      FROM   z_abv_cws_hcp360_brandanalytics_dm.dim_physician_geo_universe_tbl\n",
            "                                                      WHERE  {sales_force_param_}\n",
            "                                                         and {franchise_name_param}) b\n",
            "                                              ON a.territory_number = b.territory_number\n",
            "                                      UNION all\n",
            "SELECT DISTINCT b.abbott_customer_id,\n",
            "                                                      b.sales_force_code,\n",
            "                                                      a.district as geo_id,\n",
            "                                                      'district' as geo_code\n",
            "                                      FROM   z_abv_cws_hcp360_brandanalytics_dm.rpt_rep_hierarchy_tbl a\n",
            "                                          INNER JOIN (SELECT *\n",
            "                                                      FROM   z_abv_cws_hcp360_brandanalytics_dm.dim_physician_geo_universe_tbl\n",
            "                                                      WHERE  {sales_force_param_}\n",
            "                                                         and {franchise_name_param}) b\n",
            "                                              ON a.territory_number = b.territory_number\n",
            "                                      UNION all\n",
            "SELECT DISTINCT b.abbott_customer_id,\n",
            "                                                      b.sales_force_code,\n",
            "                                                      a.region as geo_id,\n",
            "                                                      'region' as geo_code\n",
            "                                      FROM   z_abv_cws_hcp360_brandanalytics_dm.rpt_rep_hierarchy_tbl a\n",
            "                                          INNER JOIN (SELECT *\n",
            "                                                      FROM   z_abv_cws_hcp360_brandanalytics_dm.dim_physician_geo_universe_tbl\n",
            "                                                      WHERE  {sales_force_param_}\n",
            "                                                         and {franchise_name_param}) b\n",
            "                                              ON a.territory_number = b.territory_number\n",
            "                                      UNION all\n",
            "SELECT DISTINCT b.abbott_customer_id,\n",
            "                                                      b.sales_force_code,\n",
            "                                                      '-1' as geo_id,\n",
            "                                                      'nation' as geo_code\n",
            "                                      FROM   z_abv_cws_hcp360_brandanalytics_dm.rpt_rep_hierarchy_tbl a\n",
            "                                          INNER JOIN (SELECT *\n",
            "                                                      FROM   z_abv_cws_hcp360_brandanalytics_dm.dim_physician_geo_universe_tbl\n",
            "                                                      WHERE  {sales_force_param_}\n",
            "                                                         and {franchise_name_param}) b\n",
            "                                              ON a.territory_number = b.territory_number), run_log as (SELECT franchise,\n",
            "                                                                max(id) as run_id\n",
            "                                                         FROM   z_abv_cws_hcp360_brandanalytics_dm.run_log\n",
            "                                                         WHERE  {franchise_param}\n",
            "                                                         GROUP BY franchise), base as (\n",
            "SELECT fact.sales_force_code,\n",
            "       sales.sales_force_id as sales_force_id,\n",
            "       geo_dim.geo_id,\n",
            "       geo_dim.geo_code,\n",
            "       fact.abbott_customer_id as physician_id,\n",
            "       time.time_dimension_id as time_dimension_id,\n",
            "       fact.franchise_name as franchise,\n",
            "       sub_market_name as market_name,\n",
            "       product_group_name as brand,\n",
            "       channel_name,\n",
            "       abbott_product_id as product_id,\n",
            "       market_indication,\n",
            "       metric_value,\n",
            "       time_bucket_name\n",
            "FROM   (\n",
            "SELECT *\n",
            "FROM   z_abv_cws_hcp360_brandanalytics_dm.rltn_metric_fact_tbl\n",
            "WHERE  {universe_name_param}\n",
            "   and {metric_name_param}) fact\n",
            "    INNER JOIN(\n",
            "SELECT DISTINCT territory_number,\n",
            "                abbott_customer_id\n",
            "FROM   z_abv_cws_hcp360_brandanalytics_dm.dim_physician_geo_universe_tbl\n",
            "WHERE  {upper_universe_name_param}\n",
            "   and {upper_sales_force_param_}\n",
            "   and {pdrp_flag_param} phy\n",
            "        ON phy.abbott_customer_id = fact.abbott_customer_id and\n",
            "           phy.territory_number = fact.geo_id\n",
            "    INNER JOIN z_abv_cws_hcp360_brandanalytics_dm.sales_force_dim sales\n",
            "        ON fact.sales_force_code = sales.sales_force_name\n",
            "    INNER JOIN (\n",
            "SELECT DISTINCT child_product_id,\n",
            "                sub_market_name,\n",
            "                product_group_name,\n",
            "                market_name\n",
            "FROM   z_abv_cws_hcp360_brandanalytics_dm.dim_mdm_product_hier_wide_tbl\n",
            "WHERE  {market_name_param}) mkt\n",
            "        ON mkt.child_product_id = fact.abbott_product_id and\n",
            "           mkt.market_name = fact.market_name\n",
            "    INNER JOIN geo_dim\n",
            "        ON geo_dim.territory_number = fact.geo_id\n",
            "    INNER JOIN (\n",
            "SELECT *\n",
            "FROM   z_abv_cws_hcp360_brandanalytics_dm.time_dimension_tbl\n",
            "WHERE  {kpi_group_param}\n",
            "   and {time_param}) time\n",
            "        ON fact.week_end_date >= time.start_date and\n",
            "           fact.week_end_date <= time.end_date), final as (\n",
            "SELECT DISTINCT sales_force_code,\n",
            "                base.sales_force_id,\n",
            "                sum(metric_value) as metric_value,\n",
            "                time_bucket_name,\n",
            "                base.time_dimension_id as time_bucket_id,\n",
            "                base.franchise as franchise,\n",
            "                substring(market_name, locate(' ', market_name)+ 1) as market_name,\n",
            "                base.physician_id\n",
            "FROM   base\n",
            "WHERE  {base.market_name_param}\n",
            "GROUP BY sales_force_code, base.sales_force_id, time_bucket_name, base.time_dimension_id, base.franchise, substring(market_name, locate(' ', market_name)+ 1), base.physician_id)\n",
            "SELECT calc.franchise,\n",
            "       calc.geo_id,\n",
            "       calc.geo_code,\n",
            "       -1 as product_id,\n",
            "       cast(null as string) as product_name,\n",
            "       physician_id,\n",
            "       'NBRX_VOL_MKT_ABS_CNG' as metric_name,\n",
            "       metric_value_abs as metric_value,\n",
            "       market_name,\n",
            "       time_bucket_id,\n",
            "       data_refresh_date,\n",
            "       run_id,\n",
            "       -1 as market_id,\n",
            "       cast(null as string) as segment_name,\n",
            "       cast(null as string) as access_type,\n",
            "       -1 as plan_id,\n",
            "       cast('OVERALL' as string) as metric_type_group,\n",
            "       cast(null as string) as metric_type_subgroup,\n",
            "       sales_force_id,\n",
            "       cast(null as string) as indication\n",
            "FROM   (\n",
            "SELECT curr.sales_force_id as sales_force_id,\n",
            "       curr.sales_force_code,\n",
            "       curr.market_name,\n",
            "       curr.time_bucket_name,\n",
            "       cast(null as string) as geo_id,\n",
            "       curr.franchise,\n",
            "       curr.time_bucket_id as time_bucket_id,\n",
            "       current_date() as data_refresh_date,\n",
            "       cast(null as string) as geo_code,\n",
            "       cast((curr.metric_value - prev.metric_value) as decimal(32, 2)) as metric_value_abs,\n",
            "       case when prev.metric_value = 0 then 0.00\n",
            "            when (curr.metric_value - prev.metric_value) = 0 then 0.00\n",
            "            when prev.metric_value is null then 0.00\n",
            "            when (curr.metric_value - prev.metric_value) is null then 0.00\n",
            "            else cast(((curr.metric_value - prev.metric_value) \\/ prev.metric_value) * 100 as decimal(32, 2)) end as metric_value_abs_pct,\n",
            "       curr.physician_id\n",
            "FROM   (\n",
            "SELECT *\n",
            "FROM   final\n",
            "WHERE  {time_param_1}) curr\n",
            "    INNER JOIN (\n",
            "SELECT *\n",
            "FROM   final\n",
            "WHERE  {time_param_2}) prev\n",
            "        ON curr.sales_force_code = prev.sales_force_code and\n",
            "           substring(curr.time_bucket_name, 2, length(curr.time_bucket_name)) = substring(prev.time_bucket_name, 2, length(prev.time_bucket_name)) and\n",
            "           curr.market_name = prev.market_name and\n",
            "           curr.sales_force_id = prev.sales_force_id and\n",
            "           curr.sales_force_code = prev.sales_force_code and\n",
            "           curr.franchise = prev.franchise and\n",
            "           curr.physician_id = prev.physician_id) calc\n",
            "    INNER JOIN run_log\n",
            "        ON run_log.franchise = calc.franchise\n"
          ]
        }
      ]
    },
    {
      "cell_type": "code",
      "metadata": {
        "colab": {
          "base_uri": "https://localhost:8080/"
        },
        "id": "sYP6JxQM6Q6p",
        "outputId": "27b61d43-686b-4af9-9877-ec4210edfafe"
      },
      "source": [
        "print(final_query)"
      ],
      "execution_count": null,
      "outputs": [
        {
          "output_type": "stream",
          "name": "stdout",
          "text": [
            "with geo_dim as (SELECT DISTINCT territory_number, territory_number as geo_id, 'territory' as geo_code FROM   z_abv_cws_hcp360_brandanalytics_dm.rpt_rep_hierarchy_tbl where  {territory_number_param} and {sales_force_param}), geo_map as (select distinct b.abbott_customer_id, b.sales_force_code, a.territory_number as geo_id, 'territory' as geo_code FROM   z_abv_cws_hcp360_brandanalytics_dm.rpt_rep_hierarchy_tbl a INNER JOIN (SELECT * FROM   z_abv_cws_hcp360_brandanalytics_dm.dim_physician_geo_universe_tbl where  {sales_force_param_} and {franchise_name_param}) b ON a.territory_number = b.territory_number UNION all SELECT DISTINCT b.abbott_customer_id, b.sales_force_code, a.district as geo_id, 'district' as geo_code FROM   z_abv_cws_hcp360_brandanalytics_dm.rpt_rep_hierarchy_tbl a INNER JOIN (SELECT * FROM   z_abv_cws_hcp360_brandanalytics_dm.dim_physician_geo_universe_tbl where  {sales_force_param_} and {franchise_name_param}) b ON a.territory_number = b.territory_number UNION all SELECT DISTINCT b.abbott_customer_id, b.sales_force_code, a.region as geo_id, 'region' as geo_code FROM   z_abv_cws_hcp360_brandanalytics_dm.rpt_rep_hierarchy_tbl a INNER JOIN (SELECT * FROM   z_abv_cws_hcp360_brandanalytics_dm.dim_physician_geo_universe_tbl where  {sales_force_param_} and {franchise_name_param}) b ON a.territory_number = b.territory_number UNION all SELECT DISTINCT b.abbott_customer_id, b.sales_force_code, '-1' as geo_id, 'nation' as geo_code FROM   z_abv_cws_hcp360_brandanalytics_dm.rpt_rep_hierarchy_tbl a INNER JOIN (SELECT * FROM   z_abv_cws_hcp360_brandanalytics_dm.dim_physician_geo_universe_tbl where  {sales_force_param_} and {franchise_name_param}) b ON a.territory_number = b.territory_number), run_log as (SELECT franchise, max(id) as run_id FROM   z_abv_cws_hcp360_brandanalytics_dm.run_log where  {franchise_param} GROUP BY franchise), base as (SELECT fact.sales_force_code, sales.sales_force_id as sales_force_id, geo_dim.geo_id, geo_dim.geo_code, fact.abbott_customer_id as physician_id, time.time_dimension_id as time_dimension_id, fact.franchise_name as franchise, sub_market_name as market_name, product_group_name as brand, channel_name, abbott_product_id as product_id, market_indication, metric_value, time_bucket_name FROM   (SELECT * FROM   z_abv_cws_hcp360_brandanalytics_dm.rltn_metric_fact_tbl where  {UNIVERSE_NAME_param} and {metric_name_param}) fact INNER JOIN(SELECT DISTINCT territory_number, abbott_customer_id FROM   z_abv_cws_hcp360_brandanalytics_dm.dim_physician_geo_universe_tbl where  {upper_UNIVERSE_NAME_param} and {upper_sales_force_param_} and {pdrp_flag_param} phy ON phy.abbott_customer_id = fact.abbott_customer_id and phy.territory_number = fact.geo_id INNER JOIN z_abv_cws_hcp360_brandanalytics_dm.sales_force_dim sales ON fact.sales_force_code = sales.sales_force_name INNER JOIN (SELECT DISTINCT child_product_id, sub_market_name, product_group_name, market_name FROM   z_abv_cws_hcp360_brandanalytics_dm.dim_mdm_product_hier_wide_tbl where  {market_name_param}) mkt ON mkt.child_product_id = fact.abbott_product_id and mkt.market_name = fact.market_name INNER JOIN geo_dim ON geo_dim.territory_number = fact.geo_id INNER JOIN (SELECT * FROM   z_abv_cws_hcp360_brandanalytics_dm.time_dimension_tbl where  {kpi_group_param} and {time_param}) time ON fact.week_end_date >= time.start_date and fact.week_end_date <= time.end_date), final as (SELECT DISTINCT sales_force_code, base.sales_force_id, sum(metric_value) as metric_value, time_bucket_name, base.time_dimension_id as time_bucket_id, base.franchise as franchise, substring(market_name, locate(' ', market_name)+ 1) as market_name, base.physician_id FROM   base where  {BASE.MARKET_NAME_param} GROUP BY sales_force_code, base.sales_force_id, time_bucket_name, base.time_dimension_id, base.franchise, substring(market_name, locate(' ', market_name)+ 1), base.physician_id) SELECT calc.franchise, calc.geo_id, calc.geo_code, -1 as product_id, cast(null as string) as product_name, physician_id, 'NBRX_VOL_MKT_ABS_CNG' as metric_name, metric_value_abs as metric_value, market_name, time_bucket_id, data_refresh_date, run_id, -1 as market_id, cast(null as string) as segment_name, cast(null as string) as access_type, -1 as plan_id, cast('OVERALL' as string) as metric_type_group, cast(null as string) as metric_type_subgroup, sales_force_id, cast(null as string) as indication FROM   (SELECT curr.sales_force_id as sales_force_id, curr.sales_force_code, curr.market_name, curr.time_bucket_name, cast(null as string) as geo_id, curr.franchise, curr.time_bucket_id as time_bucket_id, current_date() as data_refresh_date, cast(null as string) as geo_code, cast((curr.metric_value - prev.metric_value) as decimal(32, 2)) as metric_value_abs, case when prev.metric_value = 0 then 0.00 when (curr.metric_value - prev.metric_value) = 0 then 0.00 when prev.metric_value is null then 0.00 when (curr.metric_value - prev.metric_value) is null then 0.00 else cast(((curr.metric_value - prev.metric_value) \\/ prev.metric_value) * 100 as decimal(32, 2)) end as metric_value_abs_pct, curr.physician_id FROM   (SELECT * FROM   final where  {time_param_1}) curr INNER JOIN (SELECT * FROM   final where  {time_param_2}) prev ON curr.sales_force_code = prev.sales_force_code and substring(curr.time_bucket_name, 2, length(curr.time_bucket_name)) = substring(prev.time_bucket_name, 2, length(prev.time_bucket_name)) and curr.market_name = prev.market_name and curr.sales_force_id = prev.sales_force_id and curr.sales_force_code = prev.sales_force_code and curr.franchise = prev.franchise and curr.physician_id = prev.physician_id) calc INNER JOIN run_log ON run_log.franchise = calc.franchise\n"
          ]
        }
      ]
    },
    {
      "cell_type": "code",
      "metadata": {
        "colab": {
          "base_uri": "https://localhost:8080/"
        },
        "id": "YYYtIBkfUVk_",
        "outputId": "03037718-cb77-4604-b2eb-4215c16fee1a"
      },
      "source": [
        "param=\"'C4W', 'C13W', 'C8W','P4W','P8W','P13W', 'W1', 'W2', 'W3', 'W4', 'W5', 'W6', 'W7', 'W8', 'W9', 'W10', 'W11', 'W12', 'W13', 'W14', 'W15', 'W16', 'W17', 'W18', 'W19', 'W20', 'W21', 'W22', 'W23', 'W24', 'W25', 'W26'\"\n",
        "a=param.split(\" \")\n",
        "print(\"\".join(a))"
      ],
      "execution_count": null,
      "outputs": [
        {
          "output_type": "stream",
          "name": "stdout",
          "text": [
            "'C4W','C13W','C8W','P4W','P8W','P13W','W1','W2','W3','W4','W5','W6','W7','W8','W9','W10','W11','W12','W13','W14','W15','W16','W17','W18','W19','W20','W21','W22','W23','W24','W25','W26'\n"
          ]
        }
      ]
    }
  ]
}